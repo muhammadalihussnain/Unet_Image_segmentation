{
 "cells": [
  {
   "cell_type": "code",
   "execution_count": 24,
   "metadata": {
    "colab": {
     "base_uri": "https://localhost:8080/"
    },
    "executionInfo": {
     "elapsed": 3953,
     "status": "ok",
     "timestamp": 1647948092575,
     "user": {
      "displayName": "ali hasnain",
      "photoUrl": "https://lh3.googleusercontent.com/a/default-user=s64",
      "userId": "14249208469754017460"
     },
     "user_tz": 420
    },
    "id": "6HUERMPiUAB9",
    "outputId": "09f1531c-84a5-4060-a6fb-f994356d1ac4"
   },
   "outputs": [
    {
     "name": "stdout",
     "output_type": "stream",
     "text": [
      "Drive already mounted at /content/drive; to attempt to forcibly remount, call drive.mount(\"/content/drive\", force_remount=True).\n"
     ]
    }
   ],
   "source": [
    "from google.colab import drive\n",
    "drive.mount('/content/drive')"
   ]
  },
  {
   "cell_type": "code",
   "execution_count": 25,
   "metadata": {
    "executionInfo": {
     "elapsed": 42,
     "status": "ok",
     "timestamp": 1647948092578,
     "user": {
      "displayName": "ali hasnain",
      "photoUrl": "https://lh3.googleusercontent.com/a/default-user=s64",
      "userId": "14249208469754017460"
     },
     "user_tz": 420
    },
    "id": "Z0P201OdT_9i"
   },
   "outputs": [],
   "source": [
    "import imageio as io\n",
    "import os\n",
    "from google.colab.patches import cv2_imshow\n",
    "import numpy as np\n",
    "import torch\n",
    "import torchvision\n",
    "import matplotlib.pyplot as plt\n",
    "import cv2 as cv\n",
    "import torch.nn as nn\n",
    "from PIL import Image\n",
    "import os\n",
    "import albumentations as A\n",
    "from albumentations.pytorch import ToTensor\n",
    "from glob import glob\n",
    "from tqdm  import tqdm\n",
    "from torch.utils.data import Dataset\n",
    "from genericpath import exists\n",
    "import albumentations as A\n",
    "from torch.utils.data import DataLoader\n",
    "import matplotlib.image as mpimg\n",
    "import imghdr\n",
    "import mimetypes\n",
    "import torchvision.transforms as tt\n",
    "import torch.optim as optim\n",
    "import numpy as np"
   ]
  },
  {
   "cell_type": "code",
   "execution_count": 26,
   "metadata": {
    "executionInfo": {
     "elapsed": 43,
     "status": "ok",
     "timestamp": 1647948092581,
     "user": {
      "displayName": "ali hasnain",
      "photoUrl": "https://lh3.googleusercontent.com/a/default-user=s64",
      "userId": "14249208469754017460"
     },
     "user_tz": 420
    },
    "id": "f8uLOMp1T_5W"
   },
   "outputs": [],
   "source": [
    "np.random.seed(42)"
   ]
  },
  {
   "cell_type": "code",
   "execution_count": 27,
   "metadata": {
    "executionInfo": {
     "elapsed": 44,
     "status": "ok",
     "timestamp": 1647948092584,
     "user": {
      "displayName": "ali hasnain",
      "photoUrl": "https://lh3.googleusercontent.com/a/default-user=s64",
      "userId": "14249208469754017460"
     },
     "user_tz": 420
    },
    "id": "GawhfYFtT_y1"
   },
   "outputs": [],
   "source": [
    "train_image_dir           =  \"/content/drive/MyDrive/retinal_blood_vessels/training/images\"\n",
    "train_mask_dir            =  \"/content/drive/MyDrive/retinal_blood_vessels/training/1st_manual\"\n",
    "test_image_dir            =  \"/content/drive/MyDrive/retinal_blood_vessels/test/images\"\n",
    "test_mask_dir             =  \"/content/drive/MyDrive/retinal_blood_vessels/test/mask\"\n",
    "path1                     =  \"/content/Data/Train/Images\"\n",
    "path2                     =  \"/content/Data/Train/Masks\"\n",
    "path3                     =  \"/content/Data/Test/Images\"\n",
    "path4                     =  \"/content/Data/Test/Masks\"\n",
    "past_add = [path1,path2,path3,path4]\n",
    "copy_add  = [train_image_dir,train_mask_dir,test_image_dir,test_mask_dir]\n",
    "\n",
    "def create_dir(path):\n",
    "  if not os.path.exists(path):\n",
    "    os.makedirs(path)\n",
    "for path in past_add:\n",
    "  create_dir(path)"
   ]
  },
  {
   "cell_type": "code",
   "execution_count": 28,
   "metadata": {
    "colab": {
     "base_uri": "https://localhost:8080/"
    },
    "executionInfo": {
     "elapsed": 43,
     "status": "ok",
     "timestamp": 1647948092586,
     "user": {
      "displayName": "ali hasnain",
      "photoUrl": "https://lh3.googleusercontent.com/a/default-user=s64",
      "userId": "14249208469754017460"
     },
     "user_tz": 420
    },
    "id": "M7yHqaeJT_ty",
    "outputId": "e6c60b20-b221-4ea8-8808-15f07d4024d9"
   },
   "outputs": [
    {
     "name": "stdout",
     "output_type": "stream",
     "text": [
      "20\n",
      "21_training.tif\n"
     ]
    }
   ],
   "source": [
    "for x in copy_add:\n",
    "  images  =os.listdir(x)\n",
    "  print(len(images))\n",
    "  for image in sorted(images):\n",
    "    print(image)\n",
    "    break\n",
    "  break"
   ]
  },
  {
   "cell_type": "code",
   "execution_count": 29,
   "metadata": {
    "executionInfo": {
     "elapsed": 3272,
     "status": "ok",
     "timestamp": 1647948095826,
     "user": {
      "displayName": "ali hasnain",
      "photoUrl": "https://lh3.googleusercontent.com/a/default-user=s64",
      "userId": "14249208469754017460"
     },
     "user_tz": 420
    },
    "id": "VmSNCv3jT_pb"
   },
   "outputs": [],
   "source": [
    "def saving_data(save_add,collecting_add):\n",
    "  images  = sorted(glob(os.path.join(collecting_add,'*')))\n",
    "  #print(len(images))\n",
    "  for image in images:\n",
    "    image_extension = image.split('/')[-1].split('.')[1] \n",
    "    if image_extension=='tif':\n",
    "      image_name  = image.split('/')[-1].replace('.tif','.jpeg')\n",
    "      image = cv.imread(image)\n",
    "      image=  cv.resize(image,(512,512),interpolation=cv.INTER_LANCZOS4)\n",
    "      cv.imwrite(os.path.join(save_add,image_name),image)\n",
    "    else:\n",
    "      image_name  = image.split('/')[-1].replace('.gif','.jpeg')\n",
    "      image = np.array(Image.open(image))   \n",
    "      image=  cv.resize(image,(512,512),interpolation=cv.INTER_AREA)\n",
    "\n",
    "      cv.imwrite(os.path.join(save_add,image_name),image)\n",
    "    \n",
    "    \n",
    "for (in_add,out_add) in zip(past_add,copy_add):\n",
    "  saving_data(in_add,out_add)"
   ]
  },
  {
   "cell_type": "code",
   "execution_count": 30,
   "metadata": {
    "colab": {
     "base_uri": "https://localhost:8080/"
    },
    "executionInfo": {
     "elapsed": 94,
     "status": "ok",
     "timestamp": 1647948095829,
     "user": {
      "displayName": "ali hasnain",
      "photoUrl": "https://lh3.googleusercontent.com/a/default-user=s64",
      "userId": "14249208469754017460"
     },
     "user_tz": 420
    },
    "id": "embwI4yBT_km",
    "outputId": "ef6d1113-7cdc-4858-8aab-97970f6bdf36"
   },
   "outputs": [
    {
     "name": "stdout",
     "output_type": "stream",
     "text": [
      "20 20 20 20\n"
     ]
    }
   ],
   "source": [
    "train_x   = sorted(glob(os.path.join(past_add[0],'*.jpeg')))\n",
    "train_y   = sorted(glob(os.path.join(past_add[1],'*.jpeg')))\n",
    "test_x   = sorted(glob(os.path.join(past_add[2],'*.jpeg')))\n",
    "test_y   = sorted(glob(os.path.join(past_add[3],'*.jpeg')))\n",
    "\n",
    "print(len(train_x),len(train_y),len(test_x),len(test_y))"
   ]
  },
  {
   "cell_type": "code",
   "execution_count": 31,
   "metadata": {
    "executionInfo": {
     "elapsed": 89,
     "status": "ok",
     "timestamp": 1647948095832,
     "user": {
      "displayName": "ali hasnain",
      "photoUrl": "https://lh3.googleusercontent.com/a/default-user=s64",
      "userId": "14249208469754017460"
     },
     "user_tz": 420
    },
    "id": "jPI6ayfbT_ge"
   },
   "outputs": [],
   "source": [
    "class data_set(Dataset):\n",
    "  def __init__(self, image_dir,mask_dir,transform=None):\n",
    "    super().__init__()\n",
    "    #self.image_dir  = image_dir\n",
    "    #self.mask_dir = mask_dir\n",
    "    self.images   = image_dir\n",
    "    self.masks    = mask_dir\n",
    "    self.transform  = transform\n",
    "    self.n_samples= len(image_dir)\n",
    "  def __len__(self):\n",
    "    return self.n_samples\n",
    "  def __getitem__(self,index):\n",
    "    image_path  = os.path.join(self.images[index])\n",
    "    mask_path   = os.path.join(self.masks[index])\n",
    "    image = cv.imread(image_path)#.transpose(2,0,1)\n",
    "    image = np.resize(image,(512,512,3))\n",
    "    mask  = np.array(Image.open(mask_path).convert(\"L\"))\n",
    "    mask  = np.resize(mask,(512,512))\n",
    "    \n",
    "    if self.transform is not None:\n",
    "      augmentation  = self.transform(image=image,mask=mask)\n",
    "      image = augmentation['image']\n",
    "      mask  = augmentation['mask']     \n",
    "    return image,mask"
   ]
  },
  {
   "cell_type": "code",
   "execution_count": 32,
   "metadata": {
    "colab": {
     "base_uri": "https://localhost:8080/",
     "height": 547
    },
    "executionInfo": {
     "elapsed": 85,
     "status": "ok",
     "timestamp": 1647948095835,
     "user": {
      "displayName": "ali hasnain",
      "photoUrl": "https://lh3.googleusercontent.com/a/default-user=s64",
      "userId": "14249208469754017460"
     },
     "user_tz": 420
    },
    "id": "ISKZsmmET_cQ",
    "outputId": "6d8b077e-5bad-46f3-aa65-953a61268cc2"
   },
   "outputs": [
    {
     "name": "stdout",
     "output_type": "stream",
     "text": [
      "(512, 512, 3)\n"
     ]
    },
    {
     "data": {
      "image/png": "[encoded data removed]",
      "text/plain": [
       "<PIL.Image.Image image mode=RGB size=512x512 at 0x7F4F301F92D0>"
      ]
     },
     "metadata": {},
     "output_type": "display_data"
    }
   ],
   "source": [
    "image = cv.imread('/content/Data/Train/Masks/21_manual1.jpeg')\n",
    "print(image.shape)\n",
    "cv2_imshow(image)"
   ]
  },
  {
   "cell_type": "code",
   "execution_count": 33,
   "metadata": {
    "executionInfo": {
     "elapsed": 69,
     "status": "ok",
     "timestamp": 1647948095838,
     "user": {
      "displayName": "ali hasnain",
      "photoUrl": "https://lh3.googleusercontent.com/a/default-user=s64",
      "userId": "14249208469754017460"
     },
     "user_tz": 420
    },
    "id": "2CMTSUd7T_YW"
   },
   "outputs": [],
   "source": [
    "from torch.autograd import grad\n",
    "train_transforms  =  A.Compose([\n",
    "                                #A.Resize(height=512,width=512,interpolation=cv.INTER_LINEAR)\n",
    "                                A.Rotate(limit=35,p=1.0,interpolation=cv.INTER_LINEAR),\n",
    "                                A.HorizontalFlip(p=1.0),\n",
    "                                A.VerticalFlip(p=0.5),\n",
    "                                #A.Normalize(mean=[0.0,0.0,0.0],\n",
    "                                #            std=[1.0,1.0,1.0],\n",
    "                                #            max_pixel_value=255.0),\n",
    "                               ToTensor()\n",
    "                                ])\n",
    "val_transforms   =  A.Compose([\n",
    "                                #A.Resize(image_width,image_height),\n",
    "                                #A.Normalize(mean=[0.0,0.0,0.0],\n",
    "                                #            std=[1.0,1.0,1.0],\n",
    "                                #            max_pixel_value=255.0),\n",
    "                                ToTensor()\n",
    "                                ])"
   ]
  },
  {
   "cell_type": "code",
   "execution_count": 34,
   "metadata": {
    "executionInfo": {
     "elapsed": 68,
     "status": "ok",
     "timestamp": 1647948095840,
     "user": {
      "displayName": "ali hasnain",
      "photoUrl": "https://lh3.googleusercontent.com/a/default-user=s64",
      "userId": "14249208469754017460"
     },
     "user_tz": 420
    },
    "id": "t1bOxHI8T_T8"
   },
   "outputs": [],
   "source": [
    "class conv_block(nn.Module):\n",
    "  def __init__(self,in_ch,out_ch):\n",
    "    super().__init__()\n",
    "    self.conv = nn.Sequential(\n",
    "        nn.Conv2d(in_ch,out_ch,padding=1,stride=1,kernel_size=3),\n",
    "        nn.BatchNorm2d(out_ch),\n",
    "        nn.ReLU(out_ch),\n",
    "        nn.Conv2d(out_ch,out_ch,padding=1,stride=1,kernel_size=3),\n",
    "        nn.BatchNorm2d(out_ch),\n",
    "        nn.ReLU(out_ch)\n",
    "    )\n",
    "  def forward(self,input):\n",
    "    return(self.conv(input))"
   ]
  },
  {
   "cell_type": "code",
   "execution_count": 35,
   "metadata": {
    "executionInfo": {
     "elapsed": 68,
     "status": "ok",
     "timestamp": 1647948095843,
     "user": {
      "displayName": "ali hasnain",
      "photoUrl": "https://lh3.googleusercontent.com/a/default-user=s64",
      "userId": "14249208469754017460"
     },
     "user_tz": 420
    },
    "id": "vZhnMtVkT_QF"
   },
   "outputs": [],
   "source": [
    "class Unet(nn.Module):\n",
    "  def __init__(self,in_ch,out_ch,features=[64,128,256,512]):\n",
    "    super().__init__()\n",
    "    self.downs= nn.ModuleList()\n",
    "    self.ups  = nn.ModuleList()\n",
    "    self.pool = nn.MaxPool2d(kernel_size=2,stride=2)\n",
    "    for feature in features:\n",
    "      self.downs.append(conv_block(in_ch,feature))\n",
    "      in_ch= feature\n",
    "    for feature in reversed(features):\n",
    "      self.ups.append(nn.ConvTranspose2d(feature*2,feature,stride=2,kernel_size=2))\n",
    "      self.ups.append(conv_block(feature*2,feature))\n",
    "    self.bottleneck=  conv_block(features[-1],features[-1]*2)\n",
    "    self.final    =   conv_block(features[0],out_ch)\n",
    "  def forward(self,x):\n",
    "    skip_connections  = []\n",
    "    for down in self.downs:\n",
    "      x = down(x)\n",
    "      skip_connections.append(x)\n",
    "      x = self.pool(x)\n",
    "    skip_connections=skip_connections[::-1]\n",
    "    x  = self.bottleneck(x)\n",
    "    for index in range (0, len(self.ups), 2):\n",
    "      x = self.ups[index](x)\n",
    "      skip_connection = skip_connections[index//2]\n",
    "      x = torch.cat((x,skip_connection),dim=1)\n",
    "      x = self.ups[index+1](x)\n",
    "    return self.final(x)"
   ]
  },
  {
   "cell_type": "code",
   "execution_count": 36,
   "metadata": {
    "colab": {
     "base_uri": "https://localhost:8080/"
    },
    "executionInfo": {
     "elapsed": 68,
     "status": "ok",
     "timestamp": 1647948095845,
     "user": {
      "displayName": "ali hasnain",
      "photoUrl": "https://lh3.googleusercontent.com/a/default-user=s64",
      "userId": "14249208469754017460"
     },
     "user_tz": 420
    },
    "id": "qErOunqbT_L0",
    "outputId": "78617e2d-609d-49e8-bc07-adab2c2e1169"
   },
   "outputs": [
    {
     "name": "stdout",
     "output_type": "stream",
     "text": [
      "cuda\n"
     ]
    }
   ],
   "source": [
    "def get_default_device():\n",
    "  if torch.cuda.is_available():\n",
    "    return torch.device('cuda')\n",
    "  else:\n",
    "     return torch.device('cpu')\n",
    "device  = get_default_device()\n",
    "def to_device(data,device):\n",
    "  if isinstance(data,(tuple,list)):\n",
    "    return [to_device(x,device) for x in data]\n",
    "  else:\n",
    "    return data.to(device,non_blocking=True)\n",
    "class DeviceDataLoader():\n",
    "  def __init__(self,dl,device):\n",
    "    self.dl = dl\n",
    "    self.device = device\n",
    "  def __iter__(self):\n",
    "    for x in self.dl:\n",
    "      yield to_device(x,self.device)\n",
    "  def __len__(self):\n",
    "    return len(self.dl)\n",
    "print(device)"
   ]
  },
  {
   "cell_type": "code",
   "execution_count": 37,
   "metadata": {
    "colab": {
     "base_uri": "https://localhost:8080/"
    },
    "executionInfo": {
     "elapsed": 788,
     "status": "ok",
     "timestamp": 1647948096575,
     "user": {
      "displayName": "ali hasnain",
      "photoUrl": "https://lh3.googleusercontent.com/a/default-user=s64",
      "userId": "14249208469754017460"
     },
     "user_tz": 420
    },
    "id": "T4DrJgioT_IF",
    "outputId": "5eb84cea-c8d6-4696-dea9-6bdf4dd8807e"
   },
   "outputs": [
    {
     "name": "stdout",
     "output_type": "stream",
     "text": [
      "cuda\n"
     ]
    }
   ],
   "source": [
    "data  = data_set(train_x,train_y,train_transforms)\n",
    "val_data  = data_set(train_x,train_y,val_transforms)\n",
    "device  = get_default_device()\n",
    "train_dl  = DataLoader(data,batch_size=1,shuffle=True,num_workers=1,pin_memory=True)\n",
    "test_dl   = DataLoader(val_data,batch_size=1,shuffle=False,num_workers=1,pin_memory=True)\n",
    "\n",
    "print(device)\n",
    "model=to_device(Unet(3,1),device)\n",
    "loss_fn = nn.BCEWithLogitsLoss()\n",
    "optimizer = optim.Adam(model.parameters(),lr=0.0001)\n",
    "scaler  = torch.cuda.amp.GradScaler()\n",
    "train_dl  = DeviceDataLoader(train_dl,device)\n",
    "test_dl = DeviceDataLoader(test_dl,device)"
   ]
  },
  {
   "cell_type": "code",
   "execution_count": 38,
   "metadata": {
    "executionInfo": {
     "elapsed": 52,
     "status": "ok",
     "timestamp": 1647948096580,
     "user": {
      "displayName": "ali hasnain",
      "photoUrl": "https://lh3.googleusercontent.com/a/default-user=s64",
      "userId": "14249208469754017460"
     },
     "user_tz": 420
    },
    "id": "VksfKE6nT_Dg"
   },
   "outputs": [],
   "source": [
    "def train_fn(loader,model,loss_fn,optimizer,scaler):\n",
    "  loop=tqdm(loader)\n",
    "  for batch_index,(x,y) in enumerate(loop):\n",
    "\n",
    "    with torch.cuda.amp.autocast():\n",
    "      prediction  = model(x)\n",
    "      loss  = loss_fn(prediction,y)\n",
    "\n",
    "    optimizer.zero_grad()\n",
    "    scaler.scale(loss).backward()\n",
    "    scaler.step(optimizer)\n",
    "    scaler.update()\n",
    "    loop.set_postfix(loss=loss.item())\n",
    "    return loss"
   ]
  },
  {
   "cell_type": "code",
   "execution_count": 60,
   "metadata": {
    "colab": {
     "base_uri": "https://localhost:8080/"
    },
    "executionInfo": {
     "elapsed": 218231,
     "status": "ok",
     "timestamp": 1647949064259,
     "user": {
      "displayName": "ali hasnain",
      "photoUrl": "https://lh3.googleusercontent.com/a/default-user=s64",
      "userId": "14249208469754017460"
     },
     "user_tz": 420
    },
    "id": "fwI8aWHsT-_s",
    "outputId": "23f91676-0aa2-4a05-dd34-359eb62a3a36"
   },
   "outputs": [
    {
     "name": "stderr",
     "output_type": "stream",
     "text": [
      "  0%|          | 0/20 [00:01<?, ?it/s, loss=0.781]\n",
      "  0%|          | 0/20 [00:01<?, ?it/s, loss=0.795]\n",
      "  0%|          | 0/20 [00:01<?, ?it/s, loss=0.754]\n",
      "  0%|          | 0/20 [00:01<?, ?it/s, loss=0.753]\n",
      "  0%|          | 0/20 [00:01<?, ?it/s, loss=0.733]\n",
      "  0%|          | 0/20 [00:01<?, ?it/s, loss=0.729]\n",
      "  0%|          | 0/20 [00:01<?, ?it/s, loss=0.741]\n",
      "  0%|          | 0/20 [00:01<?, ?it/s, loss=0.736]\n",
      "  0%|          | 0/20 [00:01<?, ?it/s, loss=0.711]\n",
      "  0%|          | 0/20 [00:01<?, ?it/s, loss=0.76]\n",
      "  0%|          | 0/20 [00:01<?, ?it/s, loss=0.707]\n",
      "  0%|          | 0/20 [00:01<?, ?it/s, loss=0.709]\n",
      "  0%|          | 0/20 [00:01<?, ?it/s, loss=0.689]\n",
      "  0%|          | 0/20 [00:01<?, ?it/s, loss=0.697]\n",
      "  0%|          | 0/20 [00:01<?, ?it/s, loss=0.69]\n",
      "  0%|          | 0/20 [00:01<?, ?it/s, loss=0.695]\n",
      "  0%|          | 0/20 [00:01<?, ?it/s, loss=0.681]\n",
      "  0%|          | 0/20 [00:01<?, ?it/s, loss=0.687]\n",
      "  0%|          | 0/20 [00:01<?, ?it/s, loss=0.703]\n",
      "  0%|          | 0/20 [00:01<?, ?it/s, loss=0.685]\n",
      "  0%|          | 0/20 [00:01<?, ?it/s, loss=0.687]\n",
      "  0%|          | 0/20 [00:01<?, ?it/s, loss=0.686]\n",
      "  0%|          | 0/20 [00:01<?, ?it/s, loss=0.673]\n",
      "  0%|          | 0/20 [00:01<?, ?it/s, loss=0.726]\n",
      "  0%|          | 0/20 [00:01<?, ?it/s, loss=0.671]\n",
      "  0%|          | 0/20 [00:01<?, ?it/s, loss=0.672]\n",
      "  0%|          | 0/20 [00:01<?, ?it/s, loss=0.689]\n",
      "  0%|          | 0/20 [00:01<?, ?it/s, loss=0.679]\n",
      "  0%|          | 0/20 [00:01<?, ?it/s, loss=0.685]\n",
      "  0%|          | 0/20 [00:01<?, ?it/s, loss=0.67]\n",
      "  0%|          | 0/20 [00:01<?, ?it/s, loss=0.678]\n",
      "  0%|          | 0/20 [00:01<?, ?it/s, loss=0.679]\n",
      "  0%|          | 0/20 [00:01<?, ?it/s, loss=0.686]\n",
      "  0%|          | 0/20 [00:01<?, ?it/s, loss=0.681]\n",
      "  0%|          | 0/20 [00:01<?, ?it/s, loss=0.677]\n",
      "  0%|          | 0/20 [00:01<?, ?it/s, loss=0.678]\n",
      "  0%|          | 0/20 [00:01<?, ?it/s, loss=0.676]\n",
      "  0%|          | 0/20 [00:01<?, ?it/s, loss=0.673]\n",
      "  0%|          | 0/20 [00:01<?, ?it/s, loss=0.686]\n",
      "  0%|          | 0/20 [00:01<?, ?it/s, loss=0.678]\n",
      "  0%|          | 0/20 [00:01<?, ?it/s, loss=0.681]\n",
      "  0%|          | 0/20 [00:01<?, ?it/s, loss=0.676]\n",
      "  0%|          | 0/20 [00:01<?, ?it/s, loss=0.68]\n",
      "  0%|          | 0/20 [00:01<?, ?it/s, loss=0.675]\n",
      "  0%|          | 0/20 [00:01<?, ?it/s, loss=0.675]\n",
      "  0%|          | 0/20 [00:01<?, ?it/s, loss=0.676]\n",
      "  0%|          | 0/20 [00:01<?, ?it/s, loss=0.682]\n",
      "  0%|          | 0/20 [00:01<?, ?it/s, loss=0.678]\n",
      "  0%|          | 0/20 [00:01<?, ?it/s, loss=0.7]\n",
      "  0%|          | 0/20 [00:01<?, ?it/s, loss=0.682]\n",
      "  0%|          | 0/20 [00:01<?, ?it/s, loss=0.677]\n",
      "  0%|          | 0/20 [00:01<?, ?it/s, loss=0.683]\n",
      "  0%|          | 0/20 [00:01<?, ?it/s, loss=0.675]\n",
      "  0%|          | 0/20 [00:01<?, ?it/s, loss=0.675]\n",
      "  0%|          | 0/20 [00:01<?, ?it/s, loss=0.68]\n",
      "  0%|          | 0/20 [00:01<?, ?it/s, loss=0.679]\n",
      "  0%|          | 0/20 [00:01<?, ?it/s, loss=0.675]\n",
      "  0%|          | 0/20 [00:01<?, ?it/s, loss=0.68]\n",
      "  0%|          | 0/20 [00:01<?, ?it/s, loss=0.673]\n",
      "  0%|          | 0/20 [00:01<?, ?it/s, loss=0.678]\n",
      "  0%|          | 0/20 [00:01<?, ?it/s, loss=0.673]\n",
      "  0%|          | 0/20 [00:01<?, ?it/s, loss=0.676]\n",
      "  0%|          | 0/20 [00:01<?, ?it/s, loss=0.668]\n",
      "  0%|          | 0/20 [00:01<?, ?it/s, loss=0.69]\n",
      "  0%|          | 0/20 [00:01<?, ?it/s, loss=0.676]\n",
      "  0%|          | 0/20 [00:01<?, ?it/s, loss=0.675]\n",
      "  0%|          | 0/20 [00:01<?, ?it/s, loss=0.667]\n",
      "  0%|          | 0/20 [00:01<?, ?it/s, loss=0.67]\n",
      "  0%|          | 0/20 [00:01<?, ?it/s, loss=0.675]\n",
      "  0%|          | 0/20 [00:01<?, ?it/s, loss=0.681]\n",
      "  0%|          | 0/20 [00:01<?, ?it/s, loss=0.673]\n",
      "  0%|          | 0/20 [00:01<?, ?it/s, loss=0.679]\n",
      "  0%|          | 0/20 [00:01<?, ?it/s, loss=0.68]\n",
      "  0%|          | 0/20 [00:01<?, ?it/s, loss=0.67]\n",
      "  0%|          | 0/20 [00:01<?, ?it/s, loss=0.675]\n",
      "  0%|          | 0/20 [00:01<?, ?it/s, loss=0.664]\n",
      "  0%|          | 0/20 [00:01<?, ?it/s, loss=0.677]\n",
      "  0%|          | 0/20 [00:01<?, ?it/s, loss=0.691]\n",
      "  0%|          | 0/20 [00:01<?, ?it/s, loss=0.689]\n",
      "  0%|          | 0/20 [00:01<?, ?it/s, loss=0.681]\n",
      "  0%|          | 0/20 [00:01<?, ?it/s, loss=0.688]\n",
      "  0%|          | 0/20 [00:01<?, ?it/s, loss=0.674]\n",
      "  0%|          | 0/20 [00:01<?, ?it/s, loss=0.677]\n",
      "  0%|          | 0/20 [00:01<?, ?it/s, loss=0.678]\n",
      "  0%|          | 0/20 [00:01<?, ?it/s, loss=0.672]\n",
      "  0%|          | 0/20 [00:01<?, ?it/s, loss=0.676]\n",
      "  0%|          | 0/20 [00:01<?, ?it/s, loss=0.676]\n",
      "  0%|          | 0/20 [00:01<?, ?it/s, loss=0.67]\n",
      "  0%|          | 0/20 [00:01<?, ?it/s, loss=0.675]\n",
      "  0%|          | 0/20 [00:01<?, ?it/s, loss=0.675]\n",
      "  0%|          | 0/20 [00:01<?, ?it/s, loss=0.675]\n",
      "  0%|          | 0/20 [00:01<?, ?it/s, loss=0.675]\n",
      "  0%|          | 0/20 [00:01<?, ?it/s, loss=0.679]\n",
      "  0%|          | 0/20 [00:01<?, ?it/s, loss=0.667]\n",
      "  0%|          | 0/20 [00:01<?, ?it/s, loss=0.674]\n",
      "  0%|          | 0/20 [00:01<?, ?it/s, loss=0.674]\n",
      "  0%|          | 0/20 [00:01<?, ?it/s, loss=0.684]\n",
      "  0%|          | 0/20 [00:01<?, ?it/s, loss=0.664]\n",
      "  0%|          | 0/20 [00:01<?, ?it/s, loss=0.674]\n",
      "  0%|          | 0/20 [00:01<?, ?it/s, loss=0.676]\n",
      "  0%|          | 0/20 [00:01<?, ?it/s, loss=0.671]\n",
      "  0%|          | 0/20 [00:01<?, ?it/s, loss=0.682]\n",
      "  0%|          | 0/20 [00:01<?, ?it/s, loss=0.679]\n",
      "  0%|          | 0/20 [00:01<?, ?it/s, loss=0.675]\n",
      "  0%|          | 0/20 [00:01<?, ?it/s, loss=0.675]\n",
      "  0%|          | 0/20 [00:01<?, ?it/s, loss=0.673]\n",
      "  0%|          | 0/20 [00:01<?, ?it/s, loss=0.672]\n",
      "  0%|          | 0/20 [00:01<?, ?it/s, loss=0.679]\n",
      "  0%|          | 0/20 [00:01<?, ?it/s, loss=0.674]\n",
      "  0%|          | 0/20 [00:01<?, ?it/s, loss=0.675]\n",
      "  0%|          | 0/20 [00:01<?, ?it/s, loss=0.677]\n",
      "  0%|          | 0/20 [00:01<?, ?it/s, loss=0.669]\n",
      "  0%|          | 0/20 [00:01<?, ?it/s, loss=0.666]\n",
      "  0%|          | 0/20 [00:01<?, ?it/s, loss=0.679]\n",
      "  0%|          | 0/20 [00:01<?, ?it/s, loss=0.665]\n",
      "  0%|          | 0/20 [00:01<?, ?it/s, loss=0.666]\n",
      "  0%|          | 0/20 [00:01<?, ?it/s, loss=0.678]\n",
      "  0%|          | 0/20 [00:01<?, ?it/s, loss=0.683]\n",
      "  0%|          | 0/20 [00:01<?, ?it/s, loss=0.673]\n",
      "  0%|          | 0/20 [00:01<?, ?it/s, loss=0.675]\n",
      "  0%|          | 0/20 [00:01<?, ?it/s, loss=0.67]\n",
      "  0%|          | 0/20 [00:01<?, ?it/s, loss=0.673]\n",
      "  0%|          | 0/20 [00:01<?, ?it/s, loss=0.674]\n",
      "  0%|          | 0/20 [00:01<?, ?it/s, loss=0.674]\n",
      "  0%|          | 0/20 [00:01<?, ?it/s, loss=0.672]\n",
      "  0%|          | 0/20 [00:01<?, ?it/s, loss=0.674]\n",
      "  0%|          | 0/20 [00:01<?, ?it/s, loss=0.675]\n",
      "  0%|          | 0/20 [00:01<?, ?it/s, loss=0.673]\n",
      "  0%|          | 0/20 [00:01<?, ?it/s, loss=0.673]\n",
      "  0%|          | 0/20 [00:01<?, ?it/s, loss=0.669]\n",
      "  0%|          | 0/20 [00:01<?, ?it/s, loss=0.678]\n",
      "  0%|          | 0/20 [00:01<?, ?it/s, loss=0.673]\n",
      "  0%|          | 0/20 [00:01<?, ?it/s, loss=0.688]\n",
      "  0%|          | 0/20 [00:01<?, ?it/s, loss=0.682]\n",
      "  0%|          | 0/20 [00:01<?, ?it/s, loss=0.673]\n",
      "  0%|          | 0/20 [00:01<?, ?it/s, loss=0.665]\n",
      "  0%|          | 0/20 [00:01<?, ?it/s, loss=0.676]\n",
      "  0%|          | 0/20 [00:01<?, ?it/s, loss=0.675]\n",
      "  0%|          | 0/20 [00:01<?, ?it/s, loss=0.668]\n",
      "  0%|          | 0/20 [00:01<?, ?it/s, loss=0.68]\n",
      "  0%|          | 0/20 [00:01<?, ?it/s, loss=0.675]\n",
      "  0%|          | 0/20 [00:01<?, ?it/s, loss=0.674]\n",
      "  0%|          | 0/20 [00:01<?, ?it/s, loss=0.672]\n",
      "  0%|          | 0/20 [00:01<?, ?it/s, loss=0.675]\n",
      "  0%|          | 0/20 [00:01<?, ?it/s, loss=0.674]\n",
      "  0%|          | 0/20 [00:01<?, ?it/s, loss=0.675]\n",
      "  0%|          | 0/20 [00:01<?, ?it/s, loss=0.672]\n",
      "  0%|          | 0/20 [00:01<?, ?it/s, loss=0.674]\n",
      "  0%|          | 0/20 [00:01<?, ?it/s, loss=0.672]\n",
      "  0%|          | 0/20 [00:01<?, ?it/s, loss=0.673]\n",
      "  0%|          | 0/20 [00:01<?, ?it/s, loss=0.69]\n",
      "  0%|          | 0/20 [00:01<?, ?it/s, loss=0.677]\n",
      "  0%|          | 0/20 [00:01<?, ?it/s, loss=0.673]\n",
      "  0%|          | 0/20 [00:01<?, ?it/s, loss=0.673]\n",
      "  0%|          | 0/20 [00:01<?, ?it/s, loss=0.688]\n",
      "  0%|          | 0/20 [00:01<?, ?it/s, loss=0.666]\n",
      "  0%|          | 0/20 [00:01<?, ?it/s, loss=0.672]\n",
      "  0%|          | 0/20 [00:01<?, ?it/s, loss=0.673]\n",
      "  0%|          | 0/20 [00:01<?, ?it/s, loss=0.674]\n",
      "  0%|          | 0/20 [00:01<?, ?it/s, loss=0.673]\n",
      "  0%|          | 0/20 [00:01<?, ?it/s, loss=0.669]\n",
      "  0%|          | 0/20 [00:01<?, ?it/s, loss=0.673]\n",
      "  0%|          | 0/20 [00:01<?, ?it/s, loss=0.67]\n",
      "  0%|          | 0/20 [00:01<?, ?it/s, loss=0.677]\n",
      "  0%|          | 0/20 [00:01<?, ?it/s, loss=0.678]\n",
      "  0%|          | 0/20 [00:01<?, ?it/s, loss=0.673]\n",
      "  0%|          | 0/20 [00:01<?, ?it/s, loss=0.673]\n",
      "  0%|          | 0/20 [00:01<?, ?it/s, loss=0.685]\n",
      "  0%|          | 0/20 [00:01<?, ?it/s, loss=0.672]\n",
      "  0%|          | 0/20 [00:01<?, ?it/s, loss=0.673]\n",
      "  0%|          | 0/20 [00:01<?, ?it/s, loss=0.679]\n",
      "  0%|          | 0/20 [00:01<?, ?it/s, loss=0.673]\n",
      "  0%|          | 0/20 [00:01<?, ?it/s, loss=0.683]\n",
      "  0%|          | 0/20 [00:01<?, ?it/s, loss=0.673]\n",
      "  0%|          | 0/20 [00:01<?, ?it/s, loss=0.673]\n",
      "  0%|          | 0/20 [00:01<?, ?it/s, loss=0.674]\n",
      "  0%|          | 0/20 [00:01<?, ?it/s, loss=0.664]\n",
      "  0%|          | 0/20 [00:01<?, ?it/s, loss=0.674]\n",
      "  0%|          | 0/20 [00:01<?, ?it/s, loss=0.671]\n",
      "  0%|          | 0/20 [00:01<?, ?it/s, loss=0.676]\n",
      "  0%|          | 0/20 [00:01<?, ?it/s, loss=0.671]\n",
      "  0%|          | 0/20 [00:01<?, ?it/s, loss=0.665]\n",
      "  0%|          | 0/20 [00:01<?, ?it/s, loss=0.679]\n",
      "  0%|          | 0/20 [00:01<?, ?it/s, loss=0.672]\n",
      "  0%|          | 0/20 [00:01<?, ?it/s, loss=0.672]\n",
      "  0%|          | 0/20 [00:01<?, ?it/s, loss=0.672]\n",
      "  0%|          | 0/20 [00:01<?, ?it/s, loss=0.667]\n",
      "  0%|          | 0/20 [00:01<?, ?it/s, loss=0.684]\n",
      "  0%|          | 0/20 [00:01<?, ?it/s, loss=0.673]\n",
      "  0%|          | 0/20 [00:01<?, ?it/s, loss=0.673]\n",
      "  0%|          | 0/20 [00:01<?, ?it/s, loss=0.672]\n",
      "  0%|          | 0/20 [00:01<?, ?it/s, loss=0.675]\n",
      "  0%|          | 0/20 [00:01<?, ?it/s, loss=0.672]\n",
      "  0%|          | 0/20 [00:01<?, ?it/s, loss=0.672]\n",
      "  0%|          | 0/20 [00:01<?, ?it/s, loss=0.673]\n",
      "  0%|          | 0/20 [00:01<?, ?it/s, loss=0.67]\n",
      "  0%|          | 0/20 [00:01<?, ?it/s, loss=0.672]\n",
      "  0%|          | 0/20 [00:01<?, ?it/s, loss=0.666]\n",
      "  0%|          | 0/20 [00:01<?, ?it/s, loss=0.672]\n",
      "  0%|          | 0/20 [00:01<?, ?it/s, loss=0.672]\n"
     ]
    }
   ],
   "source": [
    "for epoch in range(200):\n",
    " loss =  train_fn(train_dl,model,loss_fn,optimizer,scaler)"
   ]
  },
  {
   "cell_type": "code",
   "execution_count": 61,
   "metadata": {
    "executionInfo": {
     "elapsed": 40,
     "status": "ok",
     "timestamp": 1647949064265,
     "user": {
      "displayName": "ali hasnain",
      "photoUrl": "https://lh3.googleusercontent.com/a/default-user=s64",
      "userId": "14249208469754017460"
     },
     "user_tz": 420
    },
    "id": "gLU4mPazT-7v"
   },
   "outputs": [],
   "source": [
    "def check_accuracy(loader,model,loss_fn):\n",
    "  images  = []\n",
    "  with torch.no_grad():\n",
    "      for (x,y) in loader:\n",
    "        preds = model(x)\n",
    "        loss  = loss_fn(preds,y)\n",
    "        images.append(preds)\n",
    "  return images"
   ]
  },
  {
   "cell_type": "code",
   "execution_count": null,
   "metadata": {
    "id": "Q9y-Ej4nX6nh"
   },
   "outputs": [],
   "source": [
    "images  = check_accuracy(test_dl,model,loss_fn)"
   ]
  },
  {
   "cell_type": "code",
   "execution_count": null,
   "metadata": {
    "id": "-QeVfwswT-3Y"
   },
   "outputs": [],
   "source": [
    "\n",
    "for image in images:\n",
    "  print(f\"shape of image before sequezing is =========={image.shape}\")\n",
    "  image= np.squeeze(image,axis=1)\n",
    "  print(f\"shape of image after sequezing is =========={image.shape}\")\n",
    "\n",
    "  image = torch.permute(image,(1,2,0))\n",
    "  image  = image.cpu().detach().numpy()\n",
    "  #image = np.reshape(image,(512,512))\n",
    "  print(image.shape)\n",
    "  \n",
    "  image[image>.5]=255\n",
    "  print(image.min(),image.max(),image.mean())\n",
    "  cv2_imshow(image)\n",
    "  break"
   ]
  },
  {
   "cell_type": "markdown",
   "metadata": {
    "id": "EIsgk0mGT8wR"
   },
   "source": [
    "# unet-image-segment-final-shape\n",
    "\n",
    "Use the \"Run\" button to execute the code."
   ]
  },
  {
   "cell_type": "code",
   "execution_count": null,
   "metadata": {
    "id": "8_hDeVwcT8wd"
   },
   "outputs": [],
   "source": [
    "!pip install jovian --upgrade --quiet"
   ]
  },
  {
   "cell_type": "code",
   "execution_count": null,
   "metadata": {
    "id": "rE84FjPKT8wh"
   },
   "outputs": [],
   "source": [
    "import jovian"
   ]
  },
  {
   "cell_type": "code",
   "execution_count": null,
   "metadata": {
    "id": "KbDCpZKwT8wl"
   },
   "outputs": [],
   "source": [
    "# Execute this to save new versions of the notebook\n",
    "jovian.commit(project=\"unet-image-segment-final-shape\")"
   ]
  },
  {
   "cell_type": "code",
   "execution_count": 44,
   "metadata": {
    "executionInfo": {
     "elapsed": 78,
     "status": "ok",
     "timestamp": 1647948117537,
     "user": {
      "displayName": "ali hasnain",
      "photoUrl": "https://lh3.googleusercontent.com/a/default-user=s64",
      "userId": "14249208469754017460"
     },
     "user_tz": 420
    },
    "id": "i_W-AqpYT8wo"
   },
   "outputs": [],
   "source": []
  }
 ],
 "metadata": {
  "accelerator": "GPU",
  "colab": {
   "name": "unet-image-segment-final-shape.ipynb",
   "provenance": []
  },
  "language_info": {
   "codemirror_mode": {
    "name": "ipython",
    "version": 3
   },
   "file_extension": ".py",
   "mimetype": "text/x-python",
   "name": "python",
   "nbconvert_exporter": "python",
   "pygments_lexer": "ipython3",
   "version": "3.7.6"
  }
 },
 "nbformat": 4,
 "nbformat_minor": 0
}